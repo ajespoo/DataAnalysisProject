{
  "nbformat": 4,
  "nbformat_minor": 0,
  "metadata": {
    "colab": {
      "provenance": [],
      "authorship_tag": "ABX9TyMANVUAfgeJOen2lL4GRPSe",
      "include_colab_link": true
    },
    "kernelspec": {
      "name": "python3",
      "display_name": "Python 3"
    },
    "language_info": {
      "name": "python"
    }
  },
  "cells": [
    {
      "cell_type": "markdown",
      "metadata": {
        "id": "view-in-github",
        "colab_type": "text"
      },
      "source": [
        "<a href=\"https://colab.research.google.com/github/vamsivenna83/DataAnalysisProjects/blob/master/1_pyspark.ipynb\" target=\"_parent\"><img src=\"https://colab.research.google.com/assets/colab-badge.svg\" alt=\"Open In Colab\"/></a>"
      ]
    },
    {
      "cell_type": "code",
      "execution_count": null,
      "metadata": {
        "colab": {
          "base_uri": "https://localhost:8080/"
        },
        "id": "S7N8qORui1Lo",
        "outputId": "ff40fe64-eab1-427d-8519-74bdf261261f"
      },
      "outputs": [
        {
          "output_type": "stream",
          "name": "stdout",
          "text": [
            "Looking in indexes: https://pypi.org/simple, https://us-python.pkg.dev/colab-wheels/public/simple/\n",
            "Collecting pyspark\n",
            "  Downloading pyspark-3.3.0.tar.gz (281.3 MB)\n",
            "\u001b[K     |████████████████████████████████| 281.3 MB 44 kB/s \n",
            "\u001b[?25hCollecting py4j==0.10.9.5\n",
            "  Downloading py4j-0.10.9.5-py2.py3-none-any.whl (199 kB)\n",
            "\u001b[K     |████████████████████████████████| 199 kB 30.3 MB/s \n",
            "\u001b[?25hBuilding wheels for collected packages: pyspark\n",
            "  Building wheel for pyspark (setup.py) ... \u001b[?25l\u001b[?25hdone\n",
            "  Created wheel for pyspark: filename=pyspark-3.3.0-py2.py3-none-any.whl size=281764026 sha256=4acf4af96aee8eb2c369654bf438c314823a615a43176f6709960684d5d325a8\n",
            "  Stored in directory: /root/.cache/pip/wheels/7a/8e/1b/f73a52650d2e5f337708d9f6a1750d451a7349a867f928b885\n",
            "Successfully built pyspark\n",
            "Installing collected packages: py4j, pyspark\n",
            "Successfully installed py4j-0.10.9.5 pyspark-3.3.0\n"
          ]
        }
      ],
      "source": [
        "!pip install pyspark\n"
      ]
    },
    {
      "cell_type": "code",
      "source": [
        "from pyspark.sql import SparkSession"
      ],
      "metadata": {
        "id": "X8nyUAUQjSZs"
      },
      "execution_count": null,
      "outputs": []
    },
    {
      "cell_type": "code",
      "source": [
        "spark = SparkSession.builder.appName(\"crew_prediction\").getOrCreate()"
      ],
      "metadata": {
        "id": "KIFi1tDFOXPz"
      },
      "execution_count": null,
      "outputs": []
    },
    {
      "cell_type": "code",
      "source": [
        "df = spark.read.csv(\"churn_prediction.csv\", inferSchema=True, header=True)"
      ],
      "metadata": {
        "id": "v2rqot3pTGOt"
      },
      "execution_count": null,
      "outputs": []
    },
    {
      "cell_type": "code",
      "source": [
        "df.printSchema()"
      ],
      "metadata": {
        "colab": {
          "base_uri": "https://localhost:8080/"
        },
        "id": "6bjA_iWlU1Bc",
        "outputId": "a545c20a-81ee-4699-f9b0-235db1faf71d"
      },
      "execution_count": null,
      "outputs": [
        {
          "output_type": "stream",
          "name": "stdout",
          "text": [
            "root\n",
            " |-- customer_id: integer (nullable = true)\n",
            " |-- vintage: integer (nullable = true)\n",
            " |-- age: integer (nullable = true)\n",
            " |-- gender: string (nullable = true)\n",
            " |-- dependents: integer (nullable = true)\n",
            " |-- occupation: string (nullable = true)\n",
            " |-- customer_nw_category: integer (nullable = true)\n",
            " |-- branch_code: integer (nullable = true)\n",
            " |-- current_balance: double (nullable = true)\n",
            " |-- previous_month_end_balance: double (nullable = true)\n",
            " |-- average_monthly_balance_prevQ: double (nullable = true)\n",
            " |-- average_monthly_balance_prevQ2: double (nullable = true)\n",
            " |-- current_month_credit: double (nullable = true)\n",
            " |-- previous_month_credit: double (nullable = true)\n",
            " |-- current_month_debit: double (nullable = true)\n",
            " |-- previous_month_debit: double (nullable = true)\n",
            " |-- current_month_balance: double (nullable = true)\n",
            " |-- previous_month_balance: double (nullable = true)\n",
            " |-- churn: integer (nullable = true)\n",
            " |-- last_transaction: timestamp (nullable = true)\n",
            "\n"
          ]
        }
      ]
    },
    {
      "cell_type": "code",
      "source": [
        "df.show()"
      ],
      "metadata": {
        "colab": {
          "base_uri": "https://localhost:8080/"
        },
        "id": "5fk3x6v0U74c",
        "outputId": "486cb82b-9bac-4658-b5ac-27eb0615ea23"
      },
      "execution_count": null,
      "outputs": [
        {
          "output_type": "stream",
          "name": "stdout",
          "text": [
            "+-----------+-------+---+------+----------+-------------+--------------------+-----------+---------------+--------------------------+-----------------------------+------------------------------+--------------------+---------------------+-------------------+--------------------+---------------------+----------------------+-----+-------------------+\n",
            "|customer_id|vintage|age|gender|dependents|   occupation|customer_nw_category|branch_code|current_balance|previous_month_end_balance|average_monthly_balance_prevQ|average_monthly_balance_prevQ2|current_month_credit|previous_month_credit|current_month_debit|previous_month_debit|current_month_balance|previous_month_balance|churn|   last_transaction|\n",
            "+-----------+-------+---+------+----------+-------------+--------------------+-----------+---------------+--------------------------+-----------------------------+------------------------------+--------------------+---------------------+-------------------+--------------------+---------------------+----------------------+-----+-------------------+\n",
            "|          1|   2101| 66|  Male|         0|self_employed|                   2|        755|        1458.71|                   1458.71|                      1458.71|                       1449.07|                 0.2|                  0.2|                0.2|                 0.2|              1458.71|               1458.71|    0|2019-05-21 00:00:00|\n",
            "|          2|   2348| 35|  Male|         0|self_employed|                   2|       3214|        5390.37|                   8704.66|                      7799.26|                      12419.41|                0.56|                 0.56|            5486.27|              100.56|              6496.78|               8787.61|    0|2019-11-01 00:00:00|\n",
            "|          5|   2329| 90|  Male|         1|self_employed|                   2|        582|        2291.91|                   2291.91|                      2084.54|                       1006.54|                0.47|                 0.47|               0.47|             2143.33|              2291.91|               1669.79|    1|2019-08-06 00:00:00|\n",
            "|          6|   1579| 42|  Male|         2|self_employed|                   3|        388|         927.72|                   1401.72|                      1643.31|                       1871.12|                0.33|               714.61|             588.62|             1538.06|              1157.15|               1677.16|    1|2019-11-03 00:00:00|\n",
            "|          7|   1923| 42|Female|         0|self_employed|                   2|       1666|        15202.2|                  16059.34|                     15211.29|                      13798.82|                0.36|                 0.36|              857.5|              286.07|             15719.44|              15349.75|    0|2019-11-01 00:00:00|\n",
            "|          8|   2048| 72|  Male|         0|      retired|                   1|          1|        7006.93|                   7714.19|                      7859.74|                      11232.37|                0.64|                 0.64|            1299.64|              439.26|              7076.06|               7755.98|    0|2019-09-24 00:00:00|\n",
            "|          9|   2009| 46|  Male|         0|self_employed|                   2|        317|       10096.58|                   8519.53|                      6511.82|                      16314.17|                0.27|                 0.27|             443.13|             5688.44|              8563.84|               5317.04|    0|2019-07-12 00:00:00|\n",
            "|         10|   2053| 31|  Male|         0|     salaried|                   2|       4110|        1355.86|                   1355.86|                      1702.44|                       1126.13|              714.51|               121.09|             714.51|              359.44|              1183.45|               1857.42|    0|2019-12-12 00:00:00|\n",
            "|         11|   2295| 40|  Male|         3|self_employed|                   2|         38|        4957.95|                   4244.38|                      2168.53|                       1864.33|             6912.29|              4206.13|             1887.3|             1348.85|              1823.16|               2416.69|    0|2019-12-31 00:00:00|\n",
            "|         12|   2389| 68|  Male|         0|      retired|                   3|        709|        1928.76|                   1571.47|                       1722.6|                        747.66|               443.4|                 0.54|               0.54|              208.79|              1606.54|               1800.15|    0|2019-12-26 00:00:00|\n",
            "|         13|   2293| 32|  Male|         0|     salaried|                   1|         89|         6886.4|                   8372.64|                      9149.45|                      21007.52|             7564.53|              4550.24|            9907.91|             5161.96|              8532.97|               8072.33|    0|2019-12-11 00:00:00|\n",
            "|         14|   2211| 73|  Male|         0|      retired|                   3|        409|         554.38|                   5728.66|                      1794.39|                        137.25|                0.33|               500.33|             5098.9|              508.53|              2541.22|                2612.6|    1|2019-11-14 00:00:00|\n",
            "|         15|   1660| 50|  Male|         0|     salaried|                   1|         88|        4548.48|                   3526.01|                      2831.89|                       8075.81|                0.61|                 0.61|            1748.08|             2529.75|              2985.16|               1536.98|    0|2019-03-03 00:00:00|\n",
            "|         16|   1917| 48|Female|         0|self_employed|                   2|        569|        5431.42|                   5489.14|                      6532.99|                       7720.34|                0.66|               661.73|               0.66|             2811.53|              5437.04|               6633.94|    1|2019-11-09 00:00:00|\n",
            "|         19|   2293| 49|  Male|         0|self_employed|                   3|       1023|        1448.49|                   3183.27|                      3021.27|                       1710.93|              190.71|               113.64|            2461.66|             1257.41|              1950.95|                3127.0|    1|2019-12-31 00:00:00|\n",
            "|         20|   2131| 52|Female|         0|self_employed|                   2|         32|        5292.13|                   3804.06|                      3946.99|                       3931.91|             3916.91|                 0.27|               0.27|                16.7|              4158.66|               3810.95|    0|2019-12-28 00:00:00|\n",
            "|         21|   2102| 47|Female|         1|self_employed|                   1|        490|        3507.71|                   3965.26|                      4356.62|                        3623.2|                0.56|                 0.56|              71.99|             8600.56|               3605.4|               4022.04|    0|2019-10-23 00:00:00|\n",
            "|         22|   2181| 41|Female|         0|self_employed|                   2|        542|         3042.7|                   3118.34|                      2843.98|                       2606.86|                 0.3|              1986.01|             104.44|              1000.3|              3101.18|               2692.52|    1|2019-11-30 00:00:00|\n",
            "|         23|   1548| 45|  Male|         0|self_employed|                   2|        501|           2.18|                   1198.35|                      5003.79|                        1223.6|               79.79|                70.73|            3588.76|              744.73|                43.07|               6859.18|    1|2019-12-08 00:00:00|\n",
            "|         25|   2105| 41|Female|         0|self_employed|                   2|       1388|        8358.47|                   7715.61|                      7819.06|                       7666.74|              643.24|                 0.39|               0.39|                0.39|              8025.96|               7715.61|    0|2019-12-18 00:00:00|\n",
            "+-----------+-------+---+------+----------+-------------+--------------------+-----------+---------------+--------------------------+-----------------------------+------------------------------+--------------------+---------------------+-------------------+--------------------+---------------------+----------------------+-----+-------------------+\n",
            "only showing top 20 rows\n",
            "\n"
          ]
        }
      ]
    },
    {
      "cell_type": "code",
      "source": [
        "# Print my_spark\n",
        "print(spark)\n",
        "# Print the tables in the catalog\n",
        "print(spark.catalog.listTables())"
      ],
      "metadata": {
        "colab": {
          "base_uri": "https://localhost:8080/"
        },
        "id": "SHZ4NNuuVYVi",
        "outputId": "65eab6fb-5748-4835-a42f-028e896e551f"
      },
      "execution_count": null,
      "outputs": [
        {
          "output_type": "stream",
          "name": "stdout",
          "text": [
            "<pyspark.sql.session.SparkSession object at 0x7f745aa200d0>\n",
            "[]\n"
          ]
        }
      ]
    },
    {
      "cell_type": "code",
      "source": [
        "# Creating or replacing a local temporary view with this DataFrame.\n",
        "df.createOrReplaceTempView(\"people\")\n",
        "# Define my query\n",
        "query = \"SELECT *, (customer_id*0.3) as bonus_quantity from people\"\n",
        "newdf = spark.sql(query)\n",
        "#display the content of new dataframe\n",
        "newdf.show()"
      ],
      "metadata": {
        "colab": {
          "base_uri": "https://localhost:8080/"
        },
        "id": "dYyDnXOkVff9",
        "outputId": "f48281da-1351-4562-f046-a271ddd92ed4"
      },
      "execution_count": null,
      "outputs": [
        {
          "output_type": "stream",
          "name": "stdout",
          "text": [
            "+-----------+-------+---+------+----------+-------------+--------------------+-----------+---------------+--------------------------+-----------------------------+------------------------------+--------------------+---------------------+-------------------+--------------------+---------------------+----------------------+-----+-------------------+--------------+\n",
            "|customer_id|vintage|age|gender|dependents|   occupation|customer_nw_category|branch_code|current_balance|previous_month_end_balance|average_monthly_balance_prevQ|average_monthly_balance_prevQ2|current_month_credit|previous_month_credit|current_month_debit|previous_month_debit|current_month_balance|previous_month_balance|churn|   last_transaction|bonus_quantity|\n",
            "+-----------+-------+---+------+----------+-------------+--------------------+-----------+---------------+--------------------------+-----------------------------+------------------------------+--------------------+---------------------+-------------------+--------------------+---------------------+----------------------+-----+-------------------+--------------+\n",
            "|          1|   2101| 66|  Male|         0|self_employed|                   2|        755|        1458.71|                   1458.71|                      1458.71|                       1449.07|                 0.2|                  0.2|                0.2|                 0.2|              1458.71|               1458.71|    0|2019-05-21 00:00:00|           0.3|\n",
            "|          2|   2348| 35|  Male|         0|self_employed|                   2|       3214|        5390.37|                   8704.66|                      7799.26|                      12419.41|                0.56|                 0.56|            5486.27|              100.56|              6496.78|               8787.61|    0|2019-11-01 00:00:00|           0.6|\n",
            "|          5|   2329| 90|  Male|         1|self_employed|                   2|        582|        2291.91|                   2291.91|                      2084.54|                       1006.54|                0.47|                 0.47|               0.47|             2143.33|              2291.91|               1669.79|    1|2019-08-06 00:00:00|           1.5|\n",
            "|          6|   1579| 42|  Male|         2|self_employed|                   3|        388|         927.72|                   1401.72|                      1643.31|                       1871.12|                0.33|               714.61|             588.62|             1538.06|              1157.15|               1677.16|    1|2019-11-03 00:00:00|           1.8|\n",
            "|          7|   1923| 42|Female|         0|self_employed|                   2|       1666|        15202.2|                  16059.34|                     15211.29|                      13798.82|                0.36|                 0.36|              857.5|              286.07|             15719.44|              15349.75|    0|2019-11-01 00:00:00|           2.1|\n",
            "|          8|   2048| 72|  Male|         0|      retired|                   1|          1|        7006.93|                   7714.19|                      7859.74|                      11232.37|                0.64|                 0.64|            1299.64|              439.26|              7076.06|               7755.98|    0|2019-09-24 00:00:00|           2.4|\n",
            "|          9|   2009| 46|  Male|         0|self_employed|                   2|        317|       10096.58|                   8519.53|                      6511.82|                      16314.17|                0.27|                 0.27|             443.13|             5688.44|              8563.84|               5317.04|    0|2019-07-12 00:00:00|           2.7|\n",
            "|         10|   2053| 31|  Male|         0|     salaried|                   2|       4110|        1355.86|                   1355.86|                      1702.44|                       1126.13|              714.51|               121.09|             714.51|              359.44|              1183.45|               1857.42|    0|2019-12-12 00:00:00|           3.0|\n",
            "|         11|   2295| 40|  Male|         3|self_employed|                   2|         38|        4957.95|                   4244.38|                      2168.53|                       1864.33|             6912.29|              4206.13|             1887.3|             1348.85|              1823.16|               2416.69|    0|2019-12-31 00:00:00|           3.3|\n",
            "|         12|   2389| 68|  Male|         0|      retired|                   3|        709|        1928.76|                   1571.47|                       1722.6|                        747.66|               443.4|                 0.54|               0.54|              208.79|              1606.54|               1800.15|    0|2019-12-26 00:00:00|           3.6|\n",
            "|         13|   2293| 32|  Male|         0|     salaried|                   1|         89|         6886.4|                   8372.64|                      9149.45|                      21007.52|             7564.53|              4550.24|            9907.91|             5161.96|              8532.97|               8072.33|    0|2019-12-11 00:00:00|           3.9|\n",
            "|         14|   2211| 73|  Male|         0|      retired|                   3|        409|         554.38|                   5728.66|                      1794.39|                        137.25|                0.33|               500.33|             5098.9|              508.53|              2541.22|                2612.6|    1|2019-11-14 00:00:00|           4.2|\n",
            "|         15|   1660| 50|  Male|         0|     salaried|                   1|         88|        4548.48|                   3526.01|                      2831.89|                       8075.81|                0.61|                 0.61|            1748.08|             2529.75|              2985.16|               1536.98|    0|2019-03-03 00:00:00|           4.5|\n",
            "|         16|   1917| 48|Female|         0|self_employed|                   2|        569|        5431.42|                   5489.14|                      6532.99|                       7720.34|                0.66|               661.73|               0.66|             2811.53|              5437.04|               6633.94|    1|2019-11-09 00:00:00|           4.8|\n",
            "|         19|   2293| 49|  Male|         0|self_employed|                   3|       1023|        1448.49|                   3183.27|                      3021.27|                       1710.93|              190.71|               113.64|            2461.66|             1257.41|              1950.95|                3127.0|    1|2019-12-31 00:00:00|           5.7|\n",
            "|         20|   2131| 52|Female|         0|self_employed|                   2|         32|        5292.13|                   3804.06|                      3946.99|                       3931.91|             3916.91|                 0.27|               0.27|                16.7|              4158.66|               3810.95|    0|2019-12-28 00:00:00|           6.0|\n",
            "|         21|   2102| 47|Female|         1|self_employed|                   1|        490|        3507.71|                   3965.26|                      4356.62|                        3623.2|                0.56|                 0.56|              71.99|             8600.56|               3605.4|               4022.04|    0|2019-10-23 00:00:00|           6.3|\n",
            "|         22|   2181| 41|Female|         0|self_employed|                   2|        542|         3042.7|                   3118.34|                      2843.98|                       2606.86|                 0.3|              1986.01|             104.44|              1000.3|              3101.18|               2692.52|    1|2019-11-30 00:00:00|           6.6|\n",
            "|         23|   1548| 45|  Male|         0|self_employed|                   2|        501|           2.18|                   1198.35|                      5003.79|                        1223.6|               79.79|                70.73|            3588.76|              744.73|                43.07|               6859.18|    1|2019-12-08 00:00:00|           6.9|\n",
            "|         25|   2105| 41|Female|         0|self_employed|                   2|       1388|        8358.47|                   7715.61|                      7819.06|                       7666.74|              643.24|                 0.39|               0.39|                0.39|              8025.96|               7715.61|    0|2019-12-18 00:00:00|           7.5|\n",
            "+-----------+-------+---+------+----------+-------------+--------------------+-----------+---------------+--------------------------+-----------------------------+------------------------------+--------------------+---------------------+-------------------+--------------------+---------------------+----------------------+-----+-------------------+--------------+\n",
            "only showing top 20 rows\n",
            "\n"
          ]
        }
      ]
    }
  ]
}