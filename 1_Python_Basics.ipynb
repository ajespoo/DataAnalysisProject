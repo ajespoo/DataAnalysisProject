{
  "nbformat": 4,
  "nbformat_minor": 0,
  "metadata": {
    "colab": {
      "provenance": [],
      "authorship_tag": "ABX9TyNf2bimngy8L+Gf00XWPfrk",
      "include_colab_link": true
    },
    "kernelspec": {
      "name": "python3",
      "display_name": "Python 3"
    },
    "language_info": {
      "name": "python"
    }
  },
  "cells": [
    {
      "cell_type": "markdown",
      "metadata": {
        "id": "view-in-github",
        "colab_type": "text"
      },
      "source": [
        "<a href=\"https://colab.research.google.com/github/vamsivenna83/DataAnalysisProjects/blob/Pyspark/1_Python_Basics.ipynb\" target=\"_parent\"><img src=\"https://colab.research.google.com/assets/colab-badge.svg\" alt=\"Open In Colab\"/></a>"
      ]
    },
    {
      "cell_type": "code",
      "execution_count": 1,
      "metadata": {
        "colab": {
          "base_uri": "https://localhost:8080/"
        },
        "id": "6aie-MI4Mc_3",
        "outputId": "c6fe43e0-a51f-4434-80d0-f190e80c04d8"
      },
      "outputs": [
        {
          "output_type": "stream",
          "name": "stdout",
          "text": [
            "14\n",
            "144\n",
            "6.0\n"
          ]
        }
      ],
      "source": [
        "a = 12\n",
        "b = 2\n",
        "\n",
        "print(a + b)\n",
        "print(a**b)\n",
        "print(a/b)"
      ]
    },
    {
      "cell_type": "code",
      "source": [
        "pip install numpy"
      ],
      "metadata": {
        "colab": {
          "base_uri": "https://localhost:8080/"
        },
        "id": "enrPG-voaEzo",
        "outputId": "6b73ca6f-dfa6-4bb0-e748-20fc67db2a74"
      },
      "execution_count": 2,
      "outputs": [
        {
          "output_type": "stream",
          "name": "stdout",
          "text": [
            "Looking in indexes: https://pypi.org/simple, https://us-python.pkg.dev/colab-wheels/public/simple/\n",
            "Requirement already satisfied: numpy in /usr/local/lib/python3.7/dist-packages (1.21.6)\n"
          ]
        }
      ]
    },
    {
      "cell_type": "code",
      "source": [
        "import numpy as np\n",
        "\n",
        "# mathematical constants\n",
        "print(np.pi)\n",
        "print(np.e)\n",
        "\n",
        "# trignometric functions\n",
        "angle = np.pi/4\n",
        "print(np.sin(angle))\n",
        "print(np.cos(angle))\n",
        "print(np.tan(angle))"
      ],
      "metadata": {
        "colab": {
          "base_uri": "https://localhost:8080/"
        },
        "id": "dC0k37ZDaE_N",
        "outputId": "9cebb5c9-a344-4f50-e16f-01087490b7b0"
      },
      "execution_count": 3,
      "outputs": [
        {
          "output_type": "stream",
          "name": "stdout",
          "text": [
            "3.141592653589793\n",
            "2.718281828459045\n",
            "0.7071067811865475\n",
            "0.7071067811865476\n",
            "0.9999999999999999\n"
          ]
        }
      ]
    },
    {
      "cell_type": "markdown",
      "source": [
        "1.1.4.3 **Working with Lists**\n",
        "\n",
        "Lists are a versatile way of organizing your data in Python. Here are some examples, more can be found on  Khan Academy video. \n",
        "\n"
      ],
      "metadata": {
        "id": "iUAWNQbtaZvj"
      }
    },
    {
      "cell_type": "code",
      "source": [
        "xList = [1, 2, 3, 4]\n",
        "xList"
      ],
      "metadata": {
        "colab": {
          "base_uri": "https://localhost:8080/"
        },
        "id": "sdKICRuLaFC7",
        "outputId": "f1681af8-6228-41a5-dd4f-c068564fe5da"
      },
      "execution_count": 4,
      "outputs": [
        {
          "output_type": "execute_result",
          "data": {
            "text/plain": [
              "[1, 2, 3, 4]"
            ]
          },
          "metadata": {},
          "execution_count": 4
        }
      ]
    },
    {
      "cell_type": "code",
      "source": [
        "# Concatenation\n",
        "x = [1, 2, 3, 4];\n",
        "y = [5, 6, 7, 8];\n",
        "\n",
        "x + y"
      ],
      "metadata": {
        "colab": {
          "base_uri": "https://localhost:8080/"
        },
        "id": "KkdIfJyKaFEv",
        "outputId": "bb71f3ba-086c-4a17-fbec-126755527c37"
      },
      "execution_count": 5,
      "outputs": [
        {
          "output_type": "execute_result",
          "data": {
            "text/plain": [
              "[1, 2, 3, 4, 5, 6, 7, 8]"
            ]
          },
          "metadata": {},
          "execution_count": 5
        }
      ]
    },
    {
      "cell_type": "code",
      "source": [
        "np.sum(x)"
      ],
      "metadata": {
        "colab": {
          "base_uri": "https://localhost:8080/"
        },
        "id": "CyyACtKIaFGx",
        "outputId": "d92f2cf4-bfd1-45b1-88b1-085c4c5e7c26"
      },
      "execution_count": 6,
      "outputs": [
        {
          "output_type": "execute_result",
          "data": {
            "text/plain": [
              "10"
            ]
          },
          "metadata": {},
          "execution_count": 6
        }
      ]
    },
    {
      "cell_type": "code",
      "source": [
        "print(np.add(x,y))\n",
        "print(np.dot(x,y))"
      ],
      "metadata": {
        "colab": {
          "base_uri": "https://localhost:8080/"
        },
        "id": "yRfCRhZHaFKJ",
        "outputId": "3ff69d1b-eeec-4b26-85a0-f8cbffd9659d"
      },
      "execution_count": 7,
      "outputs": [
        {
          "output_type": "stream",
          "name": "stdout",
          "text": [
            "[ 6  8 10 12]\n",
            "70\n"
          ]
        }
      ]
    },
    {
      "cell_type": "code",
      "source": [
        "ZList = [1, 2, 3, 4, 5, 6, 7, 8]"
      ],
      "metadata": {
        "id": "-MTj2tdKjvzq"
      },
      "execution_count": 18,
      "outputs": []
    },
    {
      "cell_type": "code",
      "source": [
        "for Z in ZList:\n",
        "    print(\"sin({0}) = {1}\".format(Z,np.sin(Z)))"
      ],
      "metadata": {
        "colab": {
          "base_uri": "https://localhost:8080/"
        },
        "id": "5xWzwKmQjFta",
        "outputId": "121f389d-957e-418d-c93d-ef751f8b5d4d"
      },
      "execution_count": 19,
      "outputs": [
        {
          "output_type": "stream",
          "name": "stdout",
          "text": [
            "sin(1) = 0.8414709848078965\n",
            "sin(2) = 0.9092974268256817\n",
            "sin(3) = 0.1411200080598672\n",
            "sin(4) = -0.7568024953079282\n",
            "sin(5) = -0.9589242746631385\n",
            "sin(6) = -0.27941549819892586\n",
            "sin(7) = 0.6569865987187891\n",
            "sin(8) = 0.9893582466233818\n"
          ]
        }
      ]
    },
    {
      "cell_type": "code",
      "source": [
        "for Z in ZList:\n",
        "  print(\"The value index {0} multiplies with same vaue is {1}\".format(Z , Z*Z))"
      ],
      "metadata": {
        "colab": {
          "base_uri": "https://localhost:8080/"
        },
        "id": "zU0v3gnGkj6O",
        "outputId": "7cc55e3f-e723-4166-8c17-845e0fe9b963"
      },
      "execution_count": 29,
      "outputs": [
        {
          "output_type": "stream",
          "name": "stdout",
          "text": [
            "The value index 1 multiplies with same vaue is 1\n",
            "The value index 2 multiplies with same vaue is 4\n",
            "The value index 3 multiplies with same vaue is 9\n",
            "The value index 4 multiplies with same vaue is 16\n",
            "The value index 5 multiplies with same vaue is 25\n",
            "The value index 6 multiplies with same vaue is 36\n",
            "The value index 7 multiplies with same vaue is 49\n",
            "The value index 8 multiplies with same vaue is 64\n"
          ]
        }
      ]
    },
    {
      "cell_type": "code",
      "source": [
        "for x in xList:\n",
        "    print(\"sin({0}) = {1:8.5f}\".format(x,np.sin(x)))"
      ],
      "metadata": {
        "colab": {
          "base_uri": "https://localhost:8080/"
        },
        "id": "ydEMnz9BjFzc",
        "outputId": "483ad1fb-af8b-49b4-9d94-767d318340eb"
      },
      "execution_count": 16,
      "outputs": [
        {
          "output_type": "stream",
          "name": "stdout",
          "text": [
            "sin(1) =  0.84147\n",
            "sin(2) =  0.90930\n",
            "sin(3) =  0.14112\n",
            "sin(4) = -0.75680\n"
          ]
        }
      ]
    }
  ]
}